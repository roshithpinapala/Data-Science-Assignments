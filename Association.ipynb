{
 "cells": [
  {
   "cell_type": "markdown",
   "id": "3341ffa8-db69-4a87-81b6-4ee4f82806fd",
   "metadata": {},
   "source": [
    "# Association rules"
   ]
  },
  {
   "cell_type": "code",
   "execution_count": 1,
   "id": "76dca74f-c790-4534-b14d-4fc18cc30548",
   "metadata": {},
   "outputs": [
    {
     "data": {
      "text/html": [
       "<div>\n",
       "<style scoped>\n",
       "    .dataframe tbody tr th:only-of-type {\n",
       "        vertical-align: middle;\n",
       "    }\n",
       "\n",
       "    .dataframe tbody tr th {\n",
       "        vertical-align: top;\n",
       "    }\n",
       "\n",
       "    .dataframe thead th {\n",
       "        text-align: right;\n",
       "    }\n",
       "</style>\n",
       "<table border=\"1\" class=\"dataframe\">\n",
       "  <thead>\n",
       "    <tr style=\"text-align: right;\">\n",
       "      <th></th>\n",
       "      <th>0</th>\n",
       "    </tr>\n",
       "  </thead>\n",
       "  <tbody>\n",
       "    <tr>\n",
       "      <th>0</th>\n",
       "      <td>shrimp,almonds,avocado,vegetables mix,green gr...</td>\n",
       "    </tr>\n",
       "    <tr>\n",
       "      <th>1</th>\n",
       "      <td>burgers,meatballs,eggs</td>\n",
       "    </tr>\n",
       "    <tr>\n",
       "      <th>2</th>\n",
       "      <td>chutney</td>\n",
       "    </tr>\n",
       "    <tr>\n",
       "      <th>3</th>\n",
       "      <td>turkey,avocado</td>\n",
       "    </tr>\n",
       "    <tr>\n",
       "      <th>4</th>\n",
       "      <td>mineral water,milk,energy bar,whole wheat rice...</td>\n",
       "    </tr>\n",
       "    <tr>\n",
       "      <th>...</th>\n",
       "      <td>...</td>\n",
       "    </tr>\n",
       "    <tr>\n",
       "      <th>7496</th>\n",
       "      <td>butter,light mayo,fresh bread</td>\n",
       "    </tr>\n",
       "    <tr>\n",
       "      <th>7497</th>\n",
       "      <td>burgers,frozen vegetables,eggs,french fries,ma...</td>\n",
       "    </tr>\n",
       "    <tr>\n",
       "      <th>7498</th>\n",
       "      <td>chicken</td>\n",
       "    </tr>\n",
       "    <tr>\n",
       "      <th>7499</th>\n",
       "      <td>escalope,green tea</td>\n",
       "    </tr>\n",
       "    <tr>\n",
       "      <th>7500</th>\n",
       "      <td>eggs,frozen smoothie,yogurt cake,low fat yogurt</td>\n",
       "    </tr>\n",
       "  </tbody>\n",
       "</table>\n",
       "<p>7501 rows × 1 columns</p>\n",
       "</div>"
      ],
      "text/plain": [
       "                                                      0\n",
       "0     shrimp,almonds,avocado,vegetables mix,green gr...\n",
       "1                                burgers,meatballs,eggs\n",
       "2                                               chutney\n",
       "3                                        turkey,avocado\n",
       "4     mineral water,milk,energy bar,whole wheat rice...\n",
       "...                                                 ...\n",
       "7496                      butter,light mayo,fresh bread\n",
       "7497  burgers,frozen vegetables,eggs,french fries,ma...\n",
       "7498                                            chicken\n",
       "7499                                 escalope,green tea\n",
       "7500    eggs,frozen smoothie,yogurt cake,low fat yogurt\n",
       "\n",
       "[7501 rows x 1 columns]"
      ]
     },
     "execution_count": 1,
     "metadata": {},
     "output_type": "execute_result"
    }
   ],
   "source": [
    "import pandas as pd\n",
    "df = pd.read_excel('Online retail.xlsx',header = None)\n",
    "df"
   ]
  },
  {
   "cell_type": "markdown",
   "id": "7dee041a-602c-40e5-956a-45b291956573",
   "metadata": {},
   "source": [
    "# Data Preprocessing :"
   ]
  },
  {
   "cell_type": "code",
   "execution_count": 2,
   "id": "4a288fd4-0170-484e-9c15-542e4d80af15",
   "metadata": {},
   "outputs": [
    {
     "data": {
      "text/plain": [
       "0    0\n",
       "dtype: int64"
      ]
     },
     "execution_count": 2,
     "metadata": {},
     "output_type": "execute_result"
    }
   ],
   "source": [
    "df.isnull().sum()"
   ]
  },
  {
   "cell_type": "code",
   "execution_count": 3,
   "id": "30d96238-66f4-41f8-82f3-413ea3c889ae",
   "metadata": {},
   "outputs": [
    {
     "name": "stdout",
     "output_type": "stream",
     "text": [
      "<class 'pandas.core.frame.DataFrame'>\n",
      "RangeIndex: 7501 entries, 0 to 7500\n",
      "Data columns (total 1 columns):\n",
      " #   Column  Non-Null Count  Dtype \n",
      "---  ------  --------------  ----- \n",
      " 0   0       7501 non-null   object\n",
      "dtypes: object(1)\n",
      "memory usage: 58.7+ KB\n"
     ]
    }
   ],
   "source": [
    "df.info()"
   ]
  },
  {
   "cell_type": "code",
   "execution_count": 4,
   "id": "0486b44c-b010-4468-9b13-bccd72b5aba0",
   "metadata": {},
   "outputs": [
    {
     "name": "stdout",
     "output_type": "stream",
     "text": [
      "Number of transactions: 7500\n"
     ]
    }
   ],
   "source": [
    "# Generate transactions\n",
    "transactions = []\n",
    "for i in range(len(df)):\n",
    "    transactions.append([str(item) for item in df.iloc[i, 0].split(',')])\n",
    "\n",
    "# Remove unnecessary first transaction (header)\n",
    "transactions = transactions[1:]\n",
    "\n",
    "# Display number of transactions\n",
    "print(\"Number of transactions:\", len(transactions))"
   ]
  },
  {
   "cell_type": "markdown",
   "id": "8c477c19-a302-4003-8ac3-7eebd5dc98fc",
   "metadata": {},
   "source": [
    "# Association Rule Mining:"
   ]
  },
  {
   "cell_type": "code",
   "execution_count": 5,
   "id": "e4e9d834-196b-4b29-b5f3-573a9f582b11",
   "metadata": {},
   "outputs": [
    {
     "name": "stdout",
     "output_type": "stream",
     "text": [
      "Requirement already satisfied: apyori in c:\\users\\roshit\\anaconda3\\lib\\site-packages (1.1.2)\n",
      "Note: you may need to restart the kernel to use updated packages.\n"
     ]
    }
   ],
   "source": [
    "pip install apyori"
   ]
  },
  {
   "cell_type": "code",
   "execution_count": 6,
   "id": "9a884241-474f-4e18-886a-520e8057f308",
   "metadata": {},
   "outputs": [],
   "source": [
    "# Apply Apriori algorithm\n",
    "from apyori import apriori\n",
    "rules = apriori(transactions=transactions,\n",
    "                min_support=0.003,\n",
    "                min_confidence=0.2,\n",
    "                min_lift=3,\n",
    "                min_length=2,\n",
    "                max_length=2)"
   ]
  },
  {
   "cell_type": "code",
   "execution_count": 7,
   "id": "f5bcf00b-bc6c-4975-9139-29e321b77c0b",
   "metadata": {},
   "outputs": [
    {
     "name": "stdout",
     "output_type": "stream",
     "text": [
      "Number of association rules: 9\n"
     ]
    }
   ],
   "source": [
    "# Converting rules to list\n",
    "report = list(rules)\n",
    "\n",
    "# Displaying number of generated association rules\n",
    "print(\"Number of association rules:\", len(report))"
   ]
  },
  {
   "cell_type": "code",
   "execution_count": 8,
   "id": "74893e11-aa29-4db8-965e-510092980ec7",
   "metadata": {},
   "outputs": [
    {
     "data": {
      "text/plain": [
       "[RelationRecord(items=frozenset({'chicken', 'light cream'}), support=0.004533333333333334, ordered_statistics=[OrderedStatistic(items_base=frozenset({'light cream'}), items_add=frozenset({'chicken'}), confidence=0.2905982905982906, lift=4.843304843304844)]),\n",
       " RelationRecord(items=frozenset({'escalope', 'mushroom cream sauce'}), support=0.005733333333333333, ordered_statistics=[OrderedStatistic(items_base=frozenset({'mushroom cream sauce'}), items_add=frozenset({'escalope'}), confidence=0.30069930069930073, lift=3.7903273197390845)]),\n",
       " RelationRecord(items=frozenset({'escalope', 'pasta'}), support=0.005866666666666667, ordered_statistics=[OrderedStatistic(items_base=frozenset({'pasta'}), items_add=frozenset({'escalope'}), confidence=0.37288135593220345, lift=4.700185158809287)]),\n",
       " RelationRecord(items=frozenset({'fromage blanc', 'honey'}), support=0.0033333333333333335, ordered_statistics=[OrderedStatistic(items_base=frozenset({'fromage blanc'}), items_add=frozenset({'honey'}), confidence=0.2450980392156863, lift=5.178127589063795)]),\n",
       " RelationRecord(items=frozenset({'herb & pepper', 'ground beef'}), support=0.016, ordered_statistics=[OrderedStatistic(items_base=frozenset({'herb & pepper'}), items_add=frozenset({'ground beef'}), confidence=0.3234501347708895, lift=3.2915549671393096)]),\n",
       " RelationRecord(items=frozenset({'ground beef', 'tomato sauce'}), support=0.005333333333333333, ordered_statistics=[OrderedStatistic(items_base=frozenset({'tomato sauce'}), items_add=frozenset({'ground beef'}), confidence=0.37735849056603776, lift=3.840147461662528)]),\n",
       " RelationRecord(items=frozenset({'olive oil', 'light cream'}), support=0.0032, ordered_statistics=[OrderedStatistic(items_base=frozenset({'light cream'}), items_add=frozenset({'olive oil'}), confidence=0.20512820512820515, lift=3.120611639881417)]),\n",
       " RelationRecord(items=frozenset({'olive oil', 'whole wheat pasta'}), support=0.008, ordered_statistics=[OrderedStatistic(items_base=frozenset({'whole wheat pasta'}), items_add=frozenset({'olive oil'}), confidence=0.2714932126696833, lift=4.130221288078346)]),\n",
       " RelationRecord(items=frozenset({'shrimp', 'pasta'}), support=0.005066666666666666, ordered_statistics=[OrderedStatistic(items_base=frozenset({'pasta'}), items_add=frozenset({'shrimp'}), confidence=0.3220338983050848, lift=4.514493901473151)])]"
      ]
     },
     "execution_count": 8,
     "metadata": {},
     "output_type": "execute_result"
    }
   ],
   "source": [
    "report"
   ]
  },
  {
   "cell_type": "code",
   "execution_count": 9,
   "id": "60f3f7e6-1077-4cac-90cf-0b164cd62331",
   "metadata": {},
   "outputs": [],
   "source": [
    "# reports accesing \n",
    "report[0]#gives first report\n",
    "report[0][0]#set of required data\n",
    "report[0][1] # support\n",
    "report[0][2][0][0] # base item\n",
    "report[0][2][0][1] # add item\n",
    "report[0][2][0][2] # confidence\n",
    "\n",
    "\n",
    "a=[]\n",
    "b=[]\n",
    "c=[]\n",
    "d=[]\n",
    "e = []"
   ]
  },
  {
   "cell_type": "code",
   "execution_count": 10,
   "id": "d0312acf-cfbc-49d5-8e2e-e96cf95da8a1",
   "metadata": {},
   "outputs": [],
   "source": [
    "for i in range(0,9):\n",
    "    a.append(report[i][1]) # support\n",
    "    b.append(report[i][2][0][0]) # base item\n",
    "    c.append(report[i][2][0][1]) # add item\n",
    "    d.append(report[i][2][0][2]) # confidence\n",
    "    e.append(report[i][2][0][3]) # lift"
   ]
  },
  {
   "cell_type": "markdown",
   "id": "5daa8a5a-e9d0-4c94-ba5d-d4ce03eea7d3",
   "metadata": {},
   "source": [
    "# Interpret the results and provide insights into customer purchasing behaviour based on the discovered rules"
   ]
  },
  {
   "cell_type": "code",
   "execution_count": 11,
   "id": "303682ea-284e-458c-a822-cea8ef93ac0d",
   "metadata": {},
   "outputs": [
    {
     "data": {
      "text/html": [
       "<div>\n",
       "<style scoped>\n",
       "    .dataframe tbody tr th:only-of-type {\n",
       "        vertical-align: middle;\n",
       "    }\n",
       "\n",
       "    .dataframe tbody tr th {\n",
       "        vertical-align: top;\n",
       "    }\n",
       "\n",
       "    .dataframe thead th {\n",
       "        text-align: right;\n",
       "    }\n",
       "</style>\n",
       "<table border=\"1\" class=\"dataframe\">\n",
       "  <thead>\n",
       "    <tr style=\"text-align: right;\">\n",
       "      <th></th>\n",
       "      <th>Support</th>\n",
       "      <th>baseitem</th>\n",
       "      <th>add item</th>\n",
       "      <th>confidence</th>\n",
       "      <th>lift</th>\n",
       "    </tr>\n",
       "  </thead>\n",
       "  <tbody>\n",
       "    <tr>\n",
       "      <th>0</th>\n",
       "      <td>0.004533</td>\n",
       "      <td>light cream</td>\n",
       "      <td>chicken</td>\n",
       "      <td>0.290598</td>\n",
       "      <td>4.843305</td>\n",
       "    </tr>\n",
       "    <tr>\n",
       "      <th>1</th>\n",
       "      <td>0.005733</td>\n",
       "      <td>mushroom cream sauce</td>\n",
       "      <td>escalope</td>\n",
       "      <td>0.300699</td>\n",
       "      <td>3.790327</td>\n",
       "    </tr>\n",
       "    <tr>\n",
       "      <th>2</th>\n",
       "      <td>0.005867</td>\n",
       "      <td>pasta</td>\n",
       "      <td>escalope</td>\n",
       "      <td>0.372881</td>\n",
       "      <td>4.700185</td>\n",
       "    </tr>\n",
       "    <tr>\n",
       "      <th>3</th>\n",
       "      <td>0.003333</td>\n",
       "      <td>fromage blanc</td>\n",
       "      <td>honey</td>\n",
       "      <td>0.245098</td>\n",
       "      <td>5.178128</td>\n",
       "    </tr>\n",
       "    <tr>\n",
       "      <th>4</th>\n",
       "      <td>0.016000</td>\n",
       "      <td>herb &amp; pepper</td>\n",
       "      <td>ground beef</td>\n",
       "      <td>0.323450</td>\n",
       "      <td>3.291555</td>\n",
       "    </tr>\n",
       "    <tr>\n",
       "      <th>5</th>\n",
       "      <td>0.005333</td>\n",
       "      <td>tomato sauce</td>\n",
       "      <td>ground beef</td>\n",
       "      <td>0.377358</td>\n",
       "      <td>3.840147</td>\n",
       "    </tr>\n",
       "    <tr>\n",
       "      <th>6</th>\n",
       "      <td>0.003200</td>\n",
       "      <td>light cream</td>\n",
       "      <td>olive oil</td>\n",
       "      <td>0.205128</td>\n",
       "      <td>3.120612</td>\n",
       "    </tr>\n",
       "    <tr>\n",
       "      <th>7</th>\n",
       "      <td>0.008000</td>\n",
       "      <td>whole wheat pasta</td>\n",
       "      <td>olive oil</td>\n",
       "      <td>0.271493</td>\n",
       "      <td>4.130221</td>\n",
       "    </tr>\n",
       "    <tr>\n",
       "      <th>8</th>\n",
       "      <td>0.005067</td>\n",
       "      <td>pasta</td>\n",
       "      <td>shrimp</td>\n",
       "      <td>0.322034</td>\n",
       "      <td>4.514494</td>\n",
       "    </tr>\n",
       "  </tbody>\n",
       "</table>\n",
       "</div>"
      ],
      "text/plain": [
       "    Support              baseitem     add item  confidence      lift\n",
       "0  0.004533           light cream      chicken    0.290598  4.843305\n",
       "1  0.005733  mushroom cream sauce     escalope    0.300699  3.790327\n",
       "2  0.005867                 pasta     escalope    0.372881  4.700185\n",
       "3  0.003333         fromage blanc        honey    0.245098  5.178128\n",
       "4  0.016000         herb & pepper  ground beef    0.323450  3.291555\n",
       "5  0.005333          tomato sauce  ground beef    0.377358  3.840147\n",
       "6  0.003200           light cream    olive oil    0.205128  3.120612\n",
       "7  0.008000     whole wheat pasta    olive oil    0.271493  4.130221\n",
       "8  0.005067                 pasta       shrimp    0.322034  4.514494"
      ]
     },
     "execution_count": 11,
     "metadata": {},
     "output_type": "execute_result"
    }
   ],
   "source": [
    "df_new  = pd.concat([pd.DataFrame(a),\n",
    "          pd.DataFrame(b),\n",
    "          pd.DataFrame(c),\n",
    "          pd.DataFrame(d),\n",
    "          pd.DataFrame(e)],axis=1)\n",
    "\n",
    "df_new.columns = ['Support','baseitem','add item','confidence','lift']\n",
    "df_new"
   ]
  },
  {
   "cell_type": "code",
   "execution_count": 12,
   "id": "7206f9e5-f6cd-47f3-aa9d-d126b9f9acb1",
   "metadata": {},
   "outputs": [
    {
     "ename": "SyntaxError",
     "evalue": "invalid syntax (337593925.py, line 2)",
     "output_type": "error",
     "traceback": [
      "\u001b[1;36m  Cell \u001b[1;32mIn[12], line 2\u001b[1;36m\u001b[0m\n\u001b[1;33m    Lift is a measure used in association rule mining to evaluate the strength and importance of a rule. It is defined as the ratio of the observed support of a rule to the expected support if the items were independent.\u001b[0m\n\u001b[1;37m              ^\u001b[0m\n\u001b[1;31mSyntaxError\u001b[0m\u001b[1;31m:\u001b[0m invalid syntax\n"
     ]
    }
   ],
   "source": [
    "1. What is lift and why is it important in Association rules?\n",
    "Lift is a measure used in association rule mining to evaluate the strength and importance of a rule. It is defined as the ratio of the observed support of a rule to the expected support if the items were independent.\n",
    "\n",
    "Importance of Lift:\n",
    "\n",
    "Independence Check: Lift helps in identifying whether the occurrence of itemsets ( X ) and ( Y ) together is more than expected by chance. A lift value of 1 indicates independence, greater than 1 indicates a positive correlation (items co-occur more frequently than expected), and less than 1 indicates a negative correlation.\n",
    "Strength of Association: A higher lift value indicates a stronger association between the itemsets ( X ) and ( Y ). This helps in identifying the most impactful rules.\n",
    "Filter Weak Rules: It helps in filtering out rules that might have high support and confidence but are not interesting because they occur merely due to the high frequency of individual items.\n",
    "    "
   ]
  },
  {
   "cell_type": "code",
   "execution_count": 13,
   "id": "580744a9-16f2-49a3-b47d-c31db748114f",
   "metadata": {},
   "outputs": [
    {
     "ename": "SyntaxError",
     "evalue": "invalid syntax (3364760592.py, line 2)",
     "output_type": "error",
     "traceback": [
      "\u001b[1;36m  Cell \u001b[1;32mIn[13], line 2\u001b[1;36m\u001b[0m\n\u001b[1;33m    Support and Confidence are fundamental measures in association rule mining.\u001b[0m\n\u001b[1;37m                           ^\u001b[0m\n\u001b[1;31mSyntaxError\u001b[0m\u001b[1;31m:\u001b[0m invalid syntax\n"
     ]
    }
   ],
   "source": [
    "2. What is support and Confidence? How do you calculate them?\n",
    "Support and Confidence are fundamental measures in association rule mining.\n",
    "\n",
    "Support: It indicates how frequently the itemset appears in the dataset.\n",
    "\n",
    "Confidence: It measures how often the rule ( X > Y ) is found to be true. It is the ratio of the support of the combined itemset"
   ]
  },
  {
   "cell_type": "code",
   "execution_count": 14,
   "id": "b147a946-f208-4a69-b5da-d54e17fac68f",
   "metadata": {},
   "outputs": [
    {
     "ename": "SyntaxError",
     "evalue": "invalid syntax (1603138062.py, line 2)",
     "output_type": "error",
     "traceback": [
      "\u001b[1;36m  Cell \u001b[1;32mIn[14], line 2\u001b[1;36m\u001b[0m\n\u001b[1;33m    Limitations and Challenges:\u001b[0m\n\u001b[1;37m                              ^\u001b[0m\n\u001b[1;31mSyntaxError\u001b[0m\u001b[1;31m:\u001b[0m invalid syntax\n"
     ]
    }
   ],
   "source": [
    "3. What are some limitations or challenges of Association rules mining?\n",
    "Limitations and Challenges:\n",
    "\n",
    "Scalability: Association rule mining can be computationally expensive, especially with large datasets and long itemsets. Algorithms like Apriori can be inefficient due to the need to generate and test a vast number of candidate itemsets.\n",
    "\n",
    "Support Threshold: Setting an appropriate minimum support threshold is challenging. A high threshold may miss interesting patterns with lower frequency, while a low threshold may produce an overwhelming number of rules, many of which could be irrelevant or spurious.\n",
    "\n",
    "Redundancy: Many rules can be redundant or very similar, making it difficult to identify the truly interesting or novel patterns.\n",
    "\n",
    "Actionability: Not all discovered rules are actionable or useful in a practical sense. The relevance of the rules must be evaluated in the context of the specific business or research objective.\n",
    "\n",
    "Interpretability: Rules with a high number of items can be complex and hard to interpret, reducing their practical usability.\n",
    "\n",
    "Noise and Outliers: Data quality issues such as noise and outliers can affect the reliability of the mined rules. These can lead to discovering misleading or unrepresentative rules.\n",
    "\n",
    "Imbalance: In datasets with imbalanced transactions (some items are much more frequent than others), frequent itemsets can dominate the rule generation process, leading to biased results.\n",
    "\n",
    "Parameter Sensitivity: The results of association rule mining are sensitive to the parameters set for support and confidence. Small changes in these parameters can significantly alter the rules generated.\n",
    "\n",
    "Addressing these challenges often requires preprocessing, parameter tuning, and the use of advanced algorithms or heuristic methods to improve the efficiency and relevance of the mined rules."
   ]
  },
  {
   "cell_type": "code",
   "execution_count": null,
   "id": "f5b7b291",
   "metadata": {},
   "outputs": [],
   "source": []
  }
 ],
 "metadata": {
  "kernelspec": {
   "display_name": "Python 3 (ipykernel)",
   "language": "python",
   "name": "python3"
  },
  "language_info": {
   "codemirror_mode": {
    "name": "ipython",
    "version": 3
   },
   "file_extension": ".py",
   "mimetype": "text/x-python",
   "name": "python",
   "nbconvert_exporter": "python",
   "pygments_lexer": "ipython3",
   "version": "3.11.5"
  }
 },
 "nbformat": 4,
 "nbformat_minor": 5
}
