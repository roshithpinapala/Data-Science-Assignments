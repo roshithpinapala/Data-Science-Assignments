{
 "cells": [
  {
   "cell_type": "code",
   "execution_count": 1,
   "id": "860a691c-46b8-446a-8a10-a5d1be570955",
   "metadata": {},
   "outputs": [],
   "source": [
    "import numpy as np\n",
    "import scipy.stats as stats"
   ]
  },
  {
   "cell_type": "markdown",
   "id": "d4c11305-f3c2-4426-bbe7-88736819f7d0",
   "metadata": {},
   "source": [
    "# Task 1: State the Hypotheses\n",
    "Null Hypothesis (H0): The weekly operating cost follows the theoretical cost model (W =1,000+ \n",
    "5X).\n",
    "Alternative Hypothesis (H1): The weekly operating cost is higher than the theoretical cost model"
   ]
  },
  {
   "cell_type": "code",
   "execution_count": 2,
   "id": "81ef8748-73b9-4cf3-8545-b51757ea0ada",
   "metadata": {},
   "outputs": [
    {
     "name": "stdout",
     "output_type": "stream",
     "text": [
      "Task 1: State the Hypotheses\n",
      "H0 (Null Hypothesis): The weekly operating cost follows the theoretical cost model (W = $1,000 + $5X).\n",
      "H1 (Alternative Hypothesis): The weekly operating cost is higher than the theoretical cost model.\n",
      "\n"
     ]
    }
   ],
   "source": [
    "print(\"Task 1: State the Hypotheses\")\n",
    "print(\"H0 (Null Hypothesis): The weekly operating cost follows the theoretical cost model (W = $1,000 + $5X).\")\n",
    "print(\"H1 (Alternative Hypothesis): The weekly operating cost is higher than the theoretical cost model.\")\n",
    "print()"
   ]
  },
  {
   "cell_type": "markdown",
   "id": "3927c8b6-6606-4034-ac75-b06589e06d38",
   "metadata": {},
   "source": [
    "# Task 2: Calculate the Test Statistic"
   ]
  },
  {
   "cell_type": "code",
   "execution_count": 3,
   "id": "202fbbf7-ff3e-4d77-8994-f4a75ada4792",
   "metadata": {},
   "outputs": [],
   "source": [
    "# - Sample mean weekly cost (x̄): Rs. 3,050\n",
    "sample_mean = 3050"
   ]
  },
  {
   "cell_type": "code",
   "execution_count": 4,
   "id": "9bb0051b-9237-46c2-b4a8-8c781355a95c",
   "metadata": {},
   "outputs": [],
   "source": [
    "# - Theoretical mean weekly cost (μ): Rs. 1,000 + 5 * 600 = Rs. 4,000\n",
    "theoretical_mean = 1000 + 5 * 600  # Calculated from the given formula\n"
   ]
  },
  {
   "cell_type": "code",
   "execution_count": 5,
   "id": "e2a19d36-c614-4ea2-9d66-ce830c49aae9",
   "metadata": {},
   "outputs": [],
   "source": [
    "# - Standard deviation (σ): 5 * 25 = Rs. 125\n",
    "standard_deviation = 5 * 25"
   ]
  },
  {
   "cell_type": "code",
   "execution_count": 6,
   "id": "c2bc5420-3e3c-4012-a7c2-f2c83a90e8b9",
   "metadata": {},
   "outputs": [],
   "source": [
    "# - Sample size (n): 25\n",
    "sample_size = 25"
   ]
  },
  {
   "cell_type": "code",
   "execution_count": 7,
   "id": "fd11324e-eff1-43a1-930d-80b7ad79d4bb",
   "metadata": {},
   "outputs": [],
   "source": [
    "# Calculate the test statistic (t)\n",
    "t = (sample_mean - theoretical_mean) / (standard_deviation / np.sqrt(sample_size))"
   ]
  },
  {
   "cell_type": "code",
   "execution_count": 8,
   "id": "001aea3c-154a-421a-87b4-28a6ed20abd0",
   "metadata": {},
   "outputs": [
    {
     "name": "stdout",
     "output_type": "stream",
     "text": [
      "Test Statistic (t): -38.000\n",
      "\n"
     ]
    }
   ],
   "source": [
    "print(f\"Test Statistic (t): {t:.3f}\")\n",
    "print()"
   ]
  },
  {
   "cell_type": "markdown",
   "id": "16bc9b0e-3682-4bbe-a59b-b277102efdcc",
   "metadata": {},
   "source": [
    "# Task 3: Determine the Critical Value"
   ]
  },
  {
   "cell_type": "code",
   "execution_count": 9,
   "id": "004beff8-8a91-442d-9045-39c67911c823",
   "metadata": {},
   "outputs": [],
   "source": [
    "# Using the alpha level of 5% (α = 0.05), determine the critical value from the standard normal (Z) distribution.\n",
    "alpha = 0.05"
   ]
  },
  {
   "cell_type": "code",
   "execution_count": 10,
   "id": "8ce241fe-2bbb-4e49-8a37-5f30e31c05c4",
   "metadata": {},
   "outputs": [],
   "source": [
    "# Since this is a one-sided test (greater than), we use the 95th percentile.\n",
    "critical_value = stats.norm.ppf(1 - alpha)"
   ]
  },
  {
   "cell_type": "code",
   "execution_count": 11,
   "id": "fc208955-c86c-4b22-ac33-6bca806aeb39",
   "metadata": {},
   "outputs": [
    {
     "name": "stdout",
     "output_type": "stream",
     "text": [
      "Critical Value: 1.645\n",
      "\n"
     ]
    }
   ],
   "source": [
    "print(f\"Critical Value: {critical_value:.3f}\")\n",
    "print()"
   ]
  },
  {
   "cell_type": "markdown",
   "id": "745b60c3-3d0d-44d3-aeec-f7b37cb431b0",
   "metadata": {},
   "source": [
    "# Task 4: Make a Decision"
   ]
  },
  {
   "cell_type": "code",
   "execution_count": 12,
   "id": "ccf0bf0e-fa89-4905-9b09-ea360ef4e6d9",
   "metadata": {},
   "outputs": [],
   "source": [
    "# Compare the test statistic with the critical value to decide whether to reject the null hypothesis.\n",
    "reject_null = t > critical_value"
   ]
  },
  {
   "cell_type": "code",
   "execution_count": 13,
   "id": "852f8318-226b-4803-a50f-cf15944c3d2c",
   "metadata": {},
   "outputs": [
    {
     "name": "stdout",
     "output_type": "stream",
     "text": [
      "Decision: Fail to reject the Null Hypothesis. There is not enough evidence to support the restaurant owners' claim that the weekly operating costs are higher than the model suggests.\n",
      "\n"
     ]
    }
   ],
   "source": [
    "if reject_null:\n",
    "    print(\"Decision: Reject the Null Hypothesis. There is strong evidence to support the restaurant owners' claim that the weekly operating costs are higher than the model suggests.\")\n",
    "else:\n",
    "    print(\"Decision: Fail to reject the Null Hypothesis. There is not enough evidence to support the restaurant owners' claim that the weekly operating costs are higher than the model suggests.\")\n",
    "print()"
   ]
  },
  {
   "cell_type": "markdown",
   "id": "b2401d83-70fe-48f3-9ef1-17018bbb76b8",
   "metadata": {},
   "source": [
    "# Conclusion"
   ]
  },
  {
   "cell_type": "markdown",
   "id": "fc73d943-ec7e-4ce0-8af8-5f5a9ecc5563",
   "metadata": {},
   "source": [
    "# There is not enough evidence to support the restaurant owners' claim that the weekly operating costs are higher than the model suggests."
   ]
  },
  {
   "cell_type": "markdown",
   "id": "e455ed50-aedb-44f5-a8a9-8d2616b5e63f",
   "metadata": {},
   "source": [
    "# Decision: Since the test statistic (-76.071) is less than the critical value (1.645), we fail to reject the null hypothesis."
   ]
  },
  {
   "cell_type": "code",
   "execution_count": null,
   "id": "4fac8fc5",
   "metadata": {},
   "outputs": [],
   "source": []
  }
 ],
 "metadata": {
  "kernelspec": {
   "display_name": "Python 3 (ipykernel)",
   "language": "python",
   "name": "python3"
  },
  "language_info": {
   "codemirror_mode": {
    "name": "ipython",
    "version": 3
   },
   "file_extension": ".py",
   "mimetype": "text/x-python",
   "name": "python",
   "nbconvert_exporter": "python",
   "pygments_lexer": "ipython3",
   "version": "3.11.5"
  }
 },
 "nbformat": 4,
 "nbformat_minor": 5
}
