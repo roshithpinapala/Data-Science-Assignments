{
  "nbformat": 4,
  "nbformat_minor": 0,
  "metadata": {
    "colab": {
      "private_outputs": true,
      "provenance": []
    },
    "kernelspec": {
      "name": "python3",
      "display_name": "Python 3"
    },
    "language_info": {
      "name": "python"
    }
  },
  "cells": [
    {
      "cell_type": "code",
      "source": [
        "#prime number"
      ],
      "metadata": {
        "id": "VWkzWOWf_KMW"
      },
      "execution_count": null,
      "outputs": []
    },
    {
      "cell_type": "code",
      "execution_count": null,
      "metadata": {
        "id": "Ganydm_Ov8Tc"
      },
      "outputs": [],
      "source": [
        "num = 3\n",
        "if num == 1:\n",
        "    print(num, \"is not a prime number\")\n",
        "elif num > 1:\n",
        "   for i in range(2,num):\n",
        "       if (num % i) == 0:\n",
        "           print(num,\"is not a prime number\")\n",
        "           break\n",
        "   else:\n",
        "       print(num,\"is a prime number\")\n",
        "\n"
      ]
    },
    {
      "cell_type": "code",
      "source": [
        "#Product of Random Numbers"
      ],
      "metadata": {
        "id": "391rExWM4kP1"
      },
      "execution_count": null,
      "outputs": []
    },
    {
      "cell_type": "code",
      "source": [
        "number1=2\n",
        "number2=5\n",
        "product=number1*number2\n",
        "user_answer=int(input(\"Enter a product of Two number\"))\n",
        "if(user_answer==product):\n",
        "  print(\"user answer is correct\")\n",
        "else:\n",
        "  print(\"user answer is incorrect\")\n",
        "  print(\"correct answer is : \",product)"
      ],
      "metadata": {
        "id": "r0lb2t3z18YT"
      },
      "execution_count": null,
      "outputs": []
    },
    {
      "cell_type": "code",
      "source": [
        "#Squares of Even/Odd Numbers"
      ],
      "metadata": {
        "id": "DDNLZ9kd3dcg"
      },
      "execution_count": null,
      "outputs": []
    },
    {
      "cell_type": "code",
      "source": [
        "ran=range(100,201,2)\n",
        "print(\"square of even number: \")\n",
        "for i in ran:\n",
        "  print(i*i)\n"
      ],
      "metadata": {
        "id": "fBxKYxRD5qPB"
      },
      "execution_count": null,
      "outputs": []
    },
    {
      "cell_type": "code",
      "source": [
        "ran=range(101,200,2)\n",
        "print(\"square of odd number: \")\n",
        "for i in ran:\n",
        "  print(i*i)"
      ],
      "metadata": {
        "id": "uWfpXEhJDsmm"
      },
      "execution_count": null,
      "outputs": []
    },
    {
      "cell_type": "code",
      "source": [
        "#Word counter"
      ],
      "metadata": {
        "id": "rJcUAwwg6Det"
      },
      "execution_count": null,
      "outputs": []
    },
    {
      "cell_type": "code",
      "source": [
        "input_text = \"This is a sample text. This text will be used to demonstrate the word counter.\"\n",
        "words=input_text.split()\n",
        "#print(words)\n",
        "dictn=dict()\n",
        "for word in words:\n",
        "  if word in dictn:\n",
        "    dictn[word]+=1\n",
        "  else:\n",
        "    dictn[word]=1\n",
        "\n",
        "print(dictn)"
      ],
      "metadata": {
        "id": "6P9ryocq0_Ee"
      },
      "execution_count": null,
      "outputs": []
    },
    {
      "cell_type": "code",
      "source": [
        "#Check for Palindrome"
      ],
      "metadata": {
        "id": "pxin7I5265nD"
      },
      "execution_count": null,
      "outputs": []
    },
    {
      "cell_type": "code",
      "source": [
        "str1=list('racecar')\n",
        "str2=list(reversed(str1))\n",
        "if str1==str2:\n",
        "  print(\"True\")\n",
        "else:\n",
        "  print('False')\n",
        "\n"
      ],
      "metadata": {
        "id": "imsRH6Zq6-Yr"
      },
      "execution_count": null,
      "outputs": []
    },
    {
      "cell_type": "code",
      "source": [],
      "metadata": {
        "id": "EVmwZ4qgAzO6"
      },
      "execution_count": null,
      "outputs": []
    }
  ]
}