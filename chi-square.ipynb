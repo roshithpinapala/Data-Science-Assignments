{
 "cells": [
  {
   "cell_type": "code",
   "execution_count": 1,
   "id": "97d751ad-21f3-4bda-9eac-abd7a01824a7",
   "metadata": {},
   "outputs": [],
   "source": [
    "d={'Satisfaction':['Very Satisfied','Satisfied','Neutral',' Unsatisfied','Very Unsatisfied'],\n",
    "   'Smart Thermostat':[50,80,60,30,20],'Smart Light':[70,100,90,50,50]}   ### Creating a dictionary using the given data"
   ]
  },
  {
   "cell_type": "code",
   "execution_count": 2,
   "id": "80ffcdd3-3075-4993-a1c0-ef7b9738a1e8",
   "metadata": {},
   "outputs": [
    {
     "data": {
      "text/html": [
       "<div>\n",
       "<style scoped>\n",
       "    .dataframe tbody tr th:only-of-type {\n",
       "        vertical-align: middle;\n",
       "    }\n",
       "\n",
       "    .dataframe tbody tr th {\n",
       "        vertical-align: top;\n",
       "    }\n",
       "\n",
       "    .dataframe thead th {\n",
       "        text-align: right;\n",
       "    }\n",
       "</style>\n",
       "<table border=\"1\" class=\"dataframe\">\n",
       "  <thead>\n",
       "    <tr style=\"text-align: right;\">\n",
       "      <th></th>\n",
       "      <th>Satisfaction</th>\n",
       "      <th>Smart Thermostat</th>\n",
       "      <th>Smart Light</th>\n",
       "    </tr>\n",
       "  </thead>\n",
       "  <tbody>\n",
       "    <tr>\n",
       "      <th>0</th>\n",
       "      <td>Very Satisfied</td>\n",
       "      <td>50</td>\n",
       "      <td>70</td>\n",
       "    </tr>\n",
       "    <tr>\n",
       "      <th>1</th>\n",
       "      <td>Satisfied</td>\n",
       "      <td>80</td>\n",
       "      <td>100</td>\n",
       "    </tr>\n",
       "    <tr>\n",
       "      <th>2</th>\n",
       "      <td>Neutral</td>\n",
       "      <td>60</td>\n",
       "      <td>90</td>\n",
       "    </tr>\n",
       "    <tr>\n",
       "      <th>3</th>\n",
       "      <td>Unsatisfied</td>\n",
       "      <td>30</td>\n",
       "      <td>50</td>\n",
       "    </tr>\n",
       "    <tr>\n",
       "      <th>4</th>\n",
       "      <td>Very Unsatisfied</td>\n",
       "      <td>20</td>\n",
       "      <td>50</td>\n",
       "    </tr>\n",
       "  </tbody>\n",
       "</table>\n",
       "</div>"
      ],
      "text/plain": [
       "       Satisfaction  Smart Thermostat  Smart Light\n",
       "0    Very Satisfied                50           70\n",
       "1         Satisfied                80          100\n",
       "2           Neutral                60           90\n",
       "3       Unsatisfied                30           50\n",
       "4  Very Unsatisfied                20           50"
      ]
     },
     "execution_count": 2,
     "metadata": {},
     "output_type": "execute_result"
    }
   ],
   "source": [
    "import pandas as pd \n",
    "df=pd.DataFrame(d)  ### Coverting the above dictionary to a data frame\n",
    "df"
   ]
  },
  {
   "cell_type": "code",
   "execution_count": 3,
   "id": "77b50898",
   "metadata": {},
   "outputs": [
    {
     "name": "stdout",
     "output_type": "stream",
     "text": [
      "Collecting researchpy\n",
      "  Obtaining dependency information for researchpy from https://files.pythonhosted.org/packages/f2/3a/f89796ede409890a27612c6e27d21bb65763bb7c034cd36d7577abe3edbf/researchpy-0.3.6-py3-none-any.whl.metadata\n",
      "  Downloading researchpy-0.3.6-py3-none-any.whl.metadata (1.2 kB)\n",
      "Requirement already satisfied: scipy in c:\\users\\roshit\\anaconda3\\lib\\site-packages (from researchpy) (1.11.1)\n",
      "Requirement already satisfied: numpy in c:\\users\\roshit\\anaconda3\\lib\\site-packages (from researchpy) (1.24.3)\n",
      "Requirement already satisfied: pandas in c:\\users\\roshit\\anaconda3\\lib\\site-packages (from researchpy) (2.0.3)\n",
      "Requirement already satisfied: statsmodels in c:\\users\\roshit\\anaconda3\\lib\\site-packages (from researchpy) (0.14.0)\n",
      "Requirement already satisfied: patsy in c:\\users\\roshit\\anaconda3\\lib\\site-packages (from researchpy) (0.5.3)\n",
      "Requirement already satisfied: python-dateutil>=2.8.2 in c:\\users\\roshit\\anaconda3\\lib\\site-packages (from pandas->researchpy) (2.8.2)\n",
      "Requirement already satisfied: pytz>=2020.1 in c:\\users\\roshit\\anaconda3\\lib\\site-packages (from pandas->researchpy) (2023.3.post1)\n",
      "Requirement already satisfied: tzdata>=2022.1 in c:\\users\\roshit\\anaconda3\\lib\\site-packages (from pandas->researchpy) (2023.3)\n",
      "Requirement already satisfied: six in c:\\users\\roshit\\anaconda3\\lib\\site-packages (from patsy->researchpy) (1.16.0)\n",
      "Requirement already satisfied: packaging>=21.3 in c:\\users\\roshit\\anaconda3\\lib\\site-packages (from statsmodels->researchpy) (23.1)\n",
      "Downloading researchpy-0.3.6-py3-none-any.whl (34 kB)\n",
      "Installing collected packages: researchpy\n",
      "Successfully installed researchpy-0.3.6\n"
     ]
    }
   ],
   "source": [
    "!pip install researchpy"
   ]
  },
  {
   "cell_type": "code",
   "execution_count": 4,
   "id": "e25e8f64-14ee-4a57-ad42-3b2da13a992c",
   "metadata": {},
   "outputs": [
    {
     "name": "stdout",
     "output_type": "stream",
     "text": [
      "                 Smart Thermostat                \n",
      "Smart Thermostat               20 30 50 60 80 All\n",
      "Satisfaction                                     \n",
      " Unsatisfied                    0  1  0  0  0   1\n",
      "Neutral                         0  0  0  1  0   1\n",
      "Satisfied                       0  0  0  0  1   1\n",
      "Very Satisfied                  0  0  1  0  0   1\n",
      "Very Unsatisfied                1  0  0  0  0   1\n",
      "All                             1  1  1  1  1   5\n",
      "                 Chi-square test  results\n",
      "0  Pearson Chi-square ( 16.0) =   20.0000\n",
      "1                     p-value =    0.2202\n",
      "2                  Cramer's V =    1.0000\n"
     ]
    }
   ],
   "source": [
    "import researchpy as rp   \n",
    "## Computing the Chi-square statistics \n",
    "table,results=rp.crosstab(df[\"Satisfaction\"],df[\"Smart Thermostat\"], test=\"chi-square\")  ### performing the chi-Square test and cross Tabulation between the Smart thermostat and satisfaction columns\n",
    "print(table)\n",
    "print(results)"
   ]
  },
  {
   "cell_type": "code",
   "execution_count": 5,
   "id": "1b9059a2-3376-4f9f-915b-2a3095e30e2b",
   "metadata": {},
   "outputs": [
    {
     "name": "stdout",
     "output_type": "stream",
     "text": [
      "Chi-Table value is: 9.49\n"
     ]
    }
   ],
   "source": [
    "## calculating the Chi square table value\n",
    "import scipy.stats as stats \n",
    "chi_table=stats.chi2.ppf(q=0.95,df=4) ## df= degree of freedom (no.of columns-1)(no.of rows-1)\n",
    "print(\"Chi-Table value is:\",chi_table.round(2))"
   ]
  },
  {
   "cell_type": "code",
   "execution_count": 6,
   "id": "e72ba521-bfe3-4ac6-8ea8-b30887146460",
   "metadata": {},
   "outputs": [
    {
     "name": "stdout",
     "output_type": "stream",
     "text": [
      "H1 is rejected and H0 is accepted\n"
     ]
    }
   ],
   "source": [
    "alpha=0.05  ## Assigning the alpha value \n",
    "pvalue=0.2202\n",
    "\n",
    "if pvalue<alpha:\n",
    "    print(\"H1 is accepted and H0 is rejected\")  \n",
    "else:\n",
    "    print(\"H1 is rejected and H0 is accepted\")\n",
    "    "
   ]
  },
  {
   "cell_type": "markdown",
   "id": "6bebdb25",
   "metadata": {},
   "source": [
    " # State the Hypotheses:\n",
    "\n",
    "##  Ho: Smart light and satisfaction are independent (They don't have the relationship)\n",
    "##  H1: Smart light and satisfaction are dependent (They have the relationship)"
   ]
  },
  {
   "cell_type": "code",
   "execution_count": 7,
   "id": "7e7039b9-f868-467b-a131-b4aa684c25c4",
   "metadata": {},
   "outputs": [
    {
     "name": "stdout",
     "output_type": "stream",
     "text": [
      "                 Smart Light              \n",
      "Smart Light               50 70 90 100 All\n",
      "Satisfaction                              \n",
      " Unsatisfied               1  0  0   0   1\n",
      "Neutral                    0  0  1   0   1\n",
      "Satisfied                  0  0  0   1   1\n",
      "Very Satisfied             0  1  0   0   1\n",
      "Very Unsatisfied           1  0  0   0   1\n",
      "All                        2  1  1   1   5\n",
      "                 Chi-square test  results\n",
      "0  Pearson Chi-square ( 12.0) =   15.0000\n",
      "1                     p-value =    0.2414\n",
      "2                  Cramer's V =    1.0000\n"
     ]
    }
   ],
   "source": [
    "import researchpy as rp\n",
    "table,results=rp.crosstab(df[\"Satisfaction\"],df[\"Smart Light\"], test=\"chi-square\")   ### performing the chi-Square test and cross Tabulation between the Smart Light and satisfaction columns\n",
    "print(table)\n",
    "print(results)\n"
   ]
  },
  {
   "cell_type": "code",
   "execution_count": 8,
   "id": "b0adcb3e-26f4-4d5a-b541-02bf81c10588",
   "metadata": {},
   "outputs": [
    {
     "data": {
      "text/plain": [
       "9.49"
      ]
     },
     "execution_count": 8,
     "metadata": {},
     "output_type": "execute_result"
    }
   ],
   "source": [
    "## calculating the Chi square table value\n",
    "import scipy.stats as stats \n",
    "chi_table=stats.chi2.ppf(q=0.95,df=4) ## df= degree of freedom (no.of columns-1)(no.of rows-1)\n",
    "chi_table.round(2)"
   ]
  },
  {
   "cell_type": "code",
   "execution_count": 9,
   "id": "de2a58ed-2400-4b29-9df9-421a11cf13e0",
   "metadata": {},
   "outputs": [
    {
     "name": "stdout",
     "output_type": "stream",
     "text": [
      "H1 is rejected and H0 is accepted\n"
     ]
    }
   ],
   "source": [
    "alpha=0.05\n",
    "pvalue=0.2202\n",
    "\n",
    "if pvalue<alpha:\n",
    "    print(\"H1 is accepted and H0 is rejected\")\n",
    "else:\n",
    "    print(\"H1 is rejected and H0 is accepted\")\n",
    "    "
   ]
  },
  {
   "cell_type": "markdown",
   "id": "bde8c282",
   "metadata": {},
   "source": [
    "# Conclusion:\n",
    "## There is no significant association between the type of smart home device purchased (Smart Thermostats vs. Smart Lights) and the customer satisfaction level."
   ]
  },
  {
   "cell_type": "code",
   "execution_count": null,
   "id": "c38e6515",
   "metadata": {},
   "outputs": [],
   "source": []
  }
 ],
 "metadata": {
  "kernelspec": {
   "display_name": "Python 3 (ipykernel)",
   "language": "python",
   "name": "python3"
  },
  "language_info": {
   "codemirror_mode": {
    "name": "ipython",
    "version": 3
   },
   "file_extension": ".py",
   "mimetype": "text/x-python",
   "name": "python",
   "nbconvert_exporter": "python",
   "pygments_lexer": "ipython3",
   "version": "3.11.5"
  }
 },
 "nbformat": 4,
 "nbformat_minor": 5
}
